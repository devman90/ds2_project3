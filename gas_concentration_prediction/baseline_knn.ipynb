{
 "cells": [
  {
   "cell_type": "code",
   "execution_count": 1,
   "metadata": {},
   "outputs": [],
   "source": [
    "import pandas as pd\n",
    "import numpy as np\n",
    "import matplotlib.pyplot as plt\n",
    "import glob\n",
    "from sklearn.neighbors import KNeighborsRegressor"
   ]
  },
  {
   "cell_type": "code",
   "execution_count": 2,
   "metadata": {},
   "outputs": [],
   "source": [
    "SEED = 0\n",
    "np.random.seed(SEED)"
   ]
  },
  {
   "cell_type": "code",
   "execution_count": 3,
   "metadata": {},
   "outputs": [],
   "source": [
    "df = []\n",
    "for file_path in glob.glob('kaggle/input/train*.csv'):\n",
    "    df_tmp = pd.read_csv(file_path)\n",
    "    df.append(df_tmp)\n",
    "df = pd.concat(df)"
   ]
  },
  {
   "cell_type": "code",
   "execution_count": 4,
   "metadata": {
    "scrolled": false
   },
   "outputs": [
    {
     "data": {
      "text/html": [
       "<div>\n",
       "<style scoped>\n",
       "    .dataframe tbody tr th:only-of-type {\n",
       "        vertical-align: middle;\n",
       "    }\n",
       "\n",
       "    .dataframe tbody tr th {\n",
       "        vertical-align: top;\n",
       "    }\n",
       "\n",
       "    .dataframe thead th {\n",
       "        text-align: right;\n",
       "    }\n",
       "</style>\n",
       "<table border=\"1\" class=\"dataframe\">\n",
       "  <thead>\n",
       "    <tr style=\"text-align: right;\">\n",
       "      <th></th>\n",
       "      <th>Time (s)</th>\n",
       "      <th>CO (ppm)</th>\n",
       "      <th>Humidity (%r.h.)</th>\n",
       "      <th>Temperature (C)</th>\n",
       "      <th>Flow rate (mL/min)</th>\n",
       "      <th>Heater voltage (V)</th>\n",
       "      <th>R1 (MOhm)</th>\n",
       "      <th>R2 (MOhm)</th>\n",
       "      <th>R3 (MOhm)</th>\n",
       "      <th>R4 (MOhm)</th>\n",
       "      <th>R5 (MOhm)</th>\n",
       "      <th>R6 (MOhm)</th>\n",
       "      <th>R7 (MOhm)</th>\n",
       "      <th>R8 (MOhm)</th>\n",
       "      <th>R9 (MOhm)</th>\n",
       "      <th>R10 (MOhm)</th>\n",
       "      <th>R11 (MOhm)</th>\n",
       "      <th>R12 (MOhm)</th>\n",
       "      <th>R13 (MOhm)</th>\n",
       "      <th>R14 (MOhm)</th>\n",
       "    </tr>\n",
       "  </thead>\n",
       "  <tbody>\n",
       "    <tr>\n",
       "      <th>0</th>\n",
       "      <td>0.000</td>\n",
       "      <td>0.0</td>\n",
       "      <td>49.7534</td>\n",
       "      <td>23.7184</td>\n",
       "      <td>233.2737</td>\n",
       "      <td>0.8993</td>\n",
       "      <td>0.2231</td>\n",
       "      <td>0.6365</td>\n",
       "      <td>1.1493</td>\n",
       "      <td>0.8483</td>\n",
       "      <td>1.2534</td>\n",
       "      <td>1.4449</td>\n",
       "      <td>1.9906</td>\n",
       "      <td>1.3303</td>\n",
       "      <td>1.4480</td>\n",
       "      <td>1.9148</td>\n",
       "      <td>3.4651</td>\n",
       "      <td>5.2144</td>\n",
       "      <td>6.5806</td>\n",
       "      <td>8.6385</td>\n",
       "    </tr>\n",
       "    <tr>\n",
       "      <th>1</th>\n",
       "      <td>0.309</td>\n",
       "      <td>0.0</td>\n",
       "      <td>55.8400</td>\n",
       "      <td>26.6200</td>\n",
       "      <td>241.6323</td>\n",
       "      <td>0.2112</td>\n",
       "      <td>2.1314</td>\n",
       "      <td>5.3552</td>\n",
       "      <td>9.7569</td>\n",
       "      <td>6.3188</td>\n",
       "      <td>9.4472</td>\n",
       "      <td>10.5769</td>\n",
       "      <td>13.6317</td>\n",
       "      <td>21.9829</td>\n",
       "      <td>16.1902</td>\n",
       "      <td>24.2780</td>\n",
       "      <td>31.1014</td>\n",
       "      <td>34.7193</td>\n",
       "      <td>31.7505</td>\n",
       "      <td>41.9167</td>\n",
       "    </tr>\n",
       "    <tr>\n",
       "      <th>2</th>\n",
       "      <td>0.618</td>\n",
       "      <td>0.0</td>\n",
       "      <td>55.8400</td>\n",
       "      <td>26.6200</td>\n",
       "      <td>241.3888</td>\n",
       "      <td>0.2070</td>\n",
       "      <td>10.5318</td>\n",
       "      <td>22.5612</td>\n",
       "      <td>37.2635</td>\n",
       "      <td>17.7848</td>\n",
       "      <td>33.0704</td>\n",
       "      <td>36.3160</td>\n",
       "      <td>42.5746</td>\n",
       "      <td>49.7495</td>\n",
       "      <td>31.7533</td>\n",
       "      <td>57.7289</td>\n",
       "      <td>53.6275</td>\n",
       "      <td>56.9212</td>\n",
       "      <td>47.8255</td>\n",
       "      <td>62.9436</td>\n",
       "    </tr>\n",
       "    <tr>\n",
       "      <th>3</th>\n",
       "      <td>0.926</td>\n",
       "      <td>0.0</td>\n",
       "      <td>55.8400</td>\n",
       "      <td>26.6200</td>\n",
       "      <td>241.1461</td>\n",
       "      <td>0.2042</td>\n",
       "      <td>29.5749</td>\n",
       "      <td>49.5111</td>\n",
       "      <td>65.6318</td>\n",
       "      <td>26.1447</td>\n",
       "      <td>58.3847</td>\n",
       "      <td>67.5130</td>\n",
       "      <td>68.0064</td>\n",
       "      <td>59.2824</td>\n",
       "      <td>36.7821</td>\n",
       "      <td>66.0832</td>\n",
       "      <td>66.8349</td>\n",
       "      <td>66.9695</td>\n",
       "      <td>50.3730</td>\n",
       "      <td>64.8363</td>\n",
       "    </tr>\n",
       "    <tr>\n",
       "      <th>4</th>\n",
       "      <td>1.234</td>\n",
       "      <td>0.0</td>\n",
       "      <td>55.8400</td>\n",
       "      <td>26.6200</td>\n",
       "      <td>240.9121</td>\n",
       "      <td>0.2030</td>\n",
       "      <td>49.5111</td>\n",
       "      <td>67.0368</td>\n",
       "      <td>77.8317</td>\n",
       "      <td>27.9625</td>\n",
       "      <td>71.7732</td>\n",
       "      <td>79.9474</td>\n",
       "      <td>79.8631</td>\n",
       "      <td>62.5385</td>\n",
       "      <td>39.6271</td>\n",
       "      <td>68.1441</td>\n",
       "      <td>62.0947</td>\n",
       "      <td>49.4614</td>\n",
       "      <td>52.8453</td>\n",
       "      <td>66.8445</td>\n",
       "    </tr>\n",
       "    <tr>\n",
       "      <th>...</th>\n",
       "      <td>...</td>\n",
       "      <td>...</td>\n",
       "      <td>...</td>\n",
       "      <td>...</td>\n",
       "      <td>...</td>\n",
       "      <td>...</td>\n",
       "      <td>...</td>\n",
       "      <td>...</td>\n",
       "      <td>...</td>\n",
       "      <td>...</td>\n",
       "      <td>...</td>\n",
       "      <td>...</td>\n",
       "      <td>...</td>\n",
       "      <td>...</td>\n",
       "      <td>...</td>\n",
       "      <td>...</td>\n",
       "      <td>...</td>\n",
       "      <td>...</td>\n",
       "      <td>...</td>\n",
       "      <td>...</td>\n",
       "    </tr>\n",
       "    <tr>\n",
       "      <th>295742</th>\n",
       "      <td>90908.346</td>\n",
       "      <td>0.0</td>\n",
       "      <td>61.6700</td>\n",
       "      <td>25.7400</td>\n",
       "      <td>0.0000</td>\n",
       "      <td>0.2000</td>\n",
       "      <td>10.9436</td>\n",
       "      <td>4.9538</td>\n",
       "      <td>17.2555</td>\n",
       "      <td>23.9772</td>\n",
       "      <td>41.3760</td>\n",
       "      <td>39.1250</td>\n",
       "      <td>41.9312</td>\n",
       "      <td>59.7614</td>\n",
       "      <td>58.7630</td>\n",
       "      <td>62.3092</td>\n",
       "      <td>60.3791</td>\n",
       "      <td>54.7785</td>\n",
       "      <td>45.7841</td>\n",
       "      <td>67.8952</td>\n",
       "    </tr>\n",
       "    <tr>\n",
       "      <th>295743</th>\n",
       "      <td>90908.655</td>\n",
       "      <td>0.0</td>\n",
       "      <td>61.6700</td>\n",
       "      <td>25.7400</td>\n",
       "      <td>0.0000</td>\n",
       "      <td>0.2000</td>\n",
       "      <td>8.8732</td>\n",
       "      <td>3.8830</td>\n",
       "      <td>14.5711</td>\n",
       "      <td>24.4668</td>\n",
       "      <td>41.3760</td>\n",
       "      <td>37.8295</td>\n",
       "      <td>40.9475</td>\n",
       "      <td>63.9786</td>\n",
       "      <td>56.3775</td>\n",
       "      <td>63.2123</td>\n",
       "      <td>65.8307</td>\n",
       "      <td>54.0991</td>\n",
       "      <td>46.5522</td>\n",
       "      <td>65.2822</td>\n",
       "    </tr>\n",
       "    <tr>\n",
       "      <th>295744</th>\n",
       "      <td>90908.965</td>\n",
       "      <td>0.0</td>\n",
       "      <td>61.6700</td>\n",
       "      <td>25.7400</td>\n",
       "      <td>0.0000</td>\n",
       "      <td>0.1997</td>\n",
       "      <td>7.2381</td>\n",
       "      <td>3.1234</td>\n",
       "      <td>11.8973</td>\n",
       "      <td>23.5061</td>\n",
       "      <td>39.4783</td>\n",
       "      <td>35.9923</td>\n",
       "      <td>32.3678</td>\n",
       "      <td>60.1664</td>\n",
       "      <td>57.5820</td>\n",
       "      <td>61.0401</td>\n",
       "      <td>59.1160</td>\n",
       "      <td>53.4361</td>\n",
       "      <td>46.7830</td>\n",
       "      <td>68.3837</td>\n",
       "    </tr>\n",
       "    <tr>\n",
       "      <th>295745</th>\n",
       "      <td>90909.273</td>\n",
       "      <td>0.0</td>\n",
       "      <td>61.6700</td>\n",
       "      <td>25.7400</td>\n",
       "      <td>0.0000</td>\n",
       "      <td>0.1995</td>\n",
       "      <td>5.9284</td>\n",
       "      <td>2.5713</td>\n",
       "      <td>9.9662</td>\n",
       "      <td>23.8181</td>\n",
       "      <td>41.5938</td>\n",
       "      <td>34.8888</td>\n",
       "      <td>39.6036</td>\n",
       "      <td>60.6597</td>\n",
       "      <td>57.1512</td>\n",
       "      <td>63.2123</td>\n",
       "      <td>62.0947</td>\n",
       "      <td>53.7355</td>\n",
       "      <td>45.7841</td>\n",
       "      <td>64.8363</td>\n",
       "    </tr>\n",
       "    <tr>\n",
       "      <th>295746</th>\n",
       "      <td>90909.582</td>\n",
       "      <td>0.0</td>\n",
       "      <td>61.6700</td>\n",
       "      <td>25.7400</td>\n",
       "      <td>0.0000</td>\n",
       "      <td>0.2000</td>\n",
       "      <td>4.8808</td>\n",
       "      <td>2.1707</td>\n",
       "      <td>8.1886</td>\n",
       "      <td>22.9051</td>\n",
       "      <td>38.6076</td>\n",
       "      <td>33.1642</td>\n",
       "      <td>39.9739</td>\n",
       "      <td>61.0769</td>\n",
       "      <td>55.6241</td>\n",
       "      <td>59.7462</td>\n",
       "      <td>58.3260</td>\n",
       "      <td>44.3973</td>\n",
       "      <td>45.5628</td>\n",
       "      <td>65.2822</td>\n",
       "    </tr>\n",
       "  </tbody>\n",
       "</table>\n",
       "<p>3547543 rows × 20 columns</p>\n",
       "</div>"
      ],
      "text/plain": [
       "         Time (s)  CO (ppm)  Humidity (%r.h.)  Temperature (C)  \\\n",
       "0           0.000       0.0           49.7534          23.7184   \n",
       "1           0.309       0.0           55.8400          26.6200   \n",
       "2           0.618       0.0           55.8400          26.6200   \n",
       "3           0.926       0.0           55.8400          26.6200   \n",
       "4           1.234       0.0           55.8400          26.6200   \n",
       "...           ...       ...               ...              ...   \n",
       "295742  90908.346       0.0           61.6700          25.7400   \n",
       "295743  90908.655       0.0           61.6700          25.7400   \n",
       "295744  90908.965       0.0           61.6700          25.7400   \n",
       "295745  90909.273       0.0           61.6700          25.7400   \n",
       "295746  90909.582       0.0           61.6700          25.7400   \n",
       "\n",
       "        Flow rate (mL/min)  Heater voltage (V)  R1 (MOhm)  R2 (MOhm)  \\\n",
       "0                 233.2737              0.8993     0.2231     0.6365   \n",
       "1                 241.6323              0.2112     2.1314     5.3552   \n",
       "2                 241.3888              0.2070    10.5318    22.5612   \n",
       "3                 241.1461              0.2042    29.5749    49.5111   \n",
       "4                 240.9121              0.2030    49.5111    67.0368   \n",
       "...                    ...                 ...        ...        ...   \n",
       "295742              0.0000              0.2000    10.9436     4.9538   \n",
       "295743              0.0000              0.2000     8.8732     3.8830   \n",
       "295744              0.0000              0.1997     7.2381     3.1234   \n",
       "295745              0.0000              0.1995     5.9284     2.5713   \n",
       "295746              0.0000              0.2000     4.8808     2.1707   \n",
       "\n",
       "        R3 (MOhm)  R4 (MOhm)  R5 (MOhm)  R6 (MOhm)  R7 (MOhm)  R8 (MOhm)  \\\n",
       "0          1.1493     0.8483     1.2534     1.4449     1.9906     1.3303   \n",
       "1          9.7569     6.3188     9.4472    10.5769    13.6317    21.9829   \n",
       "2         37.2635    17.7848    33.0704    36.3160    42.5746    49.7495   \n",
       "3         65.6318    26.1447    58.3847    67.5130    68.0064    59.2824   \n",
       "4         77.8317    27.9625    71.7732    79.9474    79.8631    62.5385   \n",
       "...           ...        ...        ...        ...        ...        ...   \n",
       "295742    17.2555    23.9772    41.3760    39.1250    41.9312    59.7614   \n",
       "295743    14.5711    24.4668    41.3760    37.8295    40.9475    63.9786   \n",
       "295744    11.8973    23.5061    39.4783    35.9923    32.3678    60.1664   \n",
       "295745     9.9662    23.8181    41.5938    34.8888    39.6036    60.6597   \n",
       "295746     8.1886    22.9051    38.6076    33.1642    39.9739    61.0769   \n",
       "\n",
       "        R9 (MOhm)  R10 (MOhm)  R11 (MOhm)  R12 (MOhm)  R13 (MOhm)  R14 (MOhm)  \n",
       "0          1.4480      1.9148      3.4651      5.2144      6.5806      8.6385  \n",
       "1         16.1902     24.2780     31.1014     34.7193     31.7505     41.9167  \n",
       "2         31.7533     57.7289     53.6275     56.9212     47.8255     62.9436  \n",
       "3         36.7821     66.0832     66.8349     66.9695     50.3730     64.8363  \n",
       "4         39.6271     68.1441     62.0947     49.4614     52.8453     66.8445  \n",
       "...           ...         ...         ...         ...         ...         ...  \n",
       "295742    58.7630     62.3092     60.3791     54.7785     45.7841     67.8952  \n",
       "295743    56.3775     63.2123     65.8307     54.0991     46.5522     65.2822  \n",
       "295744    57.5820     61.0401     59.1160     53.4361     46.7830     68.3837  \n",
       "295745    57.1512     63.2123     62.0947     53.7355     45.7841     64.8363  \n",
       "295746    55.6241     59.7462     58.3260     44.3973     45.5628     65.2822  \n",
       "\n",
       "[3547543 rows x 20 columns]"
      ]
     },
     "execution_count": 4,
     "metadata": {},
     "output_type": "execute_result"
    }
   ],
   "source": [
    "df"
   ]
  },
  {
   "cell_type": "code",
   "execution_count": 5,
   "metadata": {},
   "outputs": [
    {
     "data": {
      "text/plain": [
       "[<matplotlib.lines.Line2D at 0x26648856080>]"
      ]
     },
     "execution_count": 5,
     "metadata": {},
     "output_type": "execute_result"
    },
    {
     "data": {
      "image/png": "[encoded data removed]",
      "text/plain": [
       "<Figure size 432x288 with 1 Axes>"
      ]
     },
     "metadata": {
      "needs_background": "light"
     },
     "output_type": "display_data"
    }
   ],
   "source": [
    "plt.plot(df['Time (s)'], df['CO (ppm)'], 'o')"
   ]
  },
  {
   "cell_type": "code",
   "execution_count": 6,
   "metadata": {},
   "outputs": [],
   "source": [
    "x = df['Time (s)'].values\n",
    "y = df['CO (ppm)'].values"
   ]
  },
  {
   "cell_type": "code",
   "execution_count": 91,
   "metadata": {},
   "outputs": [],
   "source": [
    "class KNearestReg1D:\n",
    "    def __init__(self, n_neighbors=12):\n",
    "        self.n_neighbors = n_neighbors\n",
    "    \n",
    "    def fit(self, x, y):\n",
    "        assert len(x.shape) == 1\n",
    "        assert len(y.shape) == 1\n",
    "        sorted_xy = sorted(list(zip(x, y)))\n",
    "        self.sorted_x = [t[0] for t in sorted_xy]\n",
    "        self.sorted_y = [t[1] for t in sorted_xy]\n",
    "        \n",
    "    def predict(self, x):\n",
    "        if type(x) == list:\n",
    "            x = np.array(x)\n",
    "        assert len(x.shape) == 1\n",
    "        return np.array([self.predict_point(xe) for xe in x])\n",
    "        \n",
    "    def predict_point(self, x):\n",
    "        # 1. 가장 가까운 n_neighbors의 점 찾기\n",
    "        #   1-1. Binary Search를 이용하여 가장 가까운 x' 찾기\n",
    "        #   1-2. 위에서 찾은 x'로부터 좌우로 x와 가까운 점 확장\n",
    "        # 2. 찾은 점 12개를 이용하여 simple linear regression하여 답 구하기\n",
    "        #    (https://en.wikipedia.org/wiki/Simple_linear_regression)\n",
    "        \n",
    "        # 1. 가장 가까운 n_neighbors 점 찾기\n",
    "        points = self.closest_points(x, n=self.n_neighbors)\n",
    "        \n",
    "        # 2. Linear Regression으로 추정하기\n",
    "        x_near = np.array([t[0] for t in points])\n",
    "        y_near = np.array([t[1] for t in points])\n",
    "        sx2 = np.sum((x_near - np.mean(x_near)) ** 2)\n",
    "        if sx2 == 0:\n",
    "            return np.mean(y_near)\n",
    "        sxy = np.sum((x_near - np.mean(x_near)) * (y_near - np.mean(y_near)))\n",
    "        beta = sxy / sx2\n",
    "        alpha = np.mean(y_near) - beta * np.mean(x_near)\n",
    "        return alpha + beta * x\n",
    "        \n",
    "    def closest_points(self, x, n):\n",
    "        import bisect\n",
    "        # Locate the insertion point for x in a to maintain sorted order\n",
    "        idx = bisect.bisect(self.sorted_x, x)\n",
    "        \n",
    "        # Candidate: (x_diff, x', y')\n",
    "        candidates = []\n",
    "        if idx < len(self.sorted_x):\n",
    "            candidates.append((\n",
    "                abs(self.sorted_x[idx] - x), self.sorted_x[idx], self.sorted_y[idx]\n",
    "            ))\n",
    "        for i in range(n + 1):\n",
    "            idx_left = idx - i - 1\n",
    "            if idx_left >= 0:\n",
    "                candidates.append((\n",
    "                    abs(self.sorted_x[idx_left] - x), self.sorted_x[idx_left], self.sorted_y[idx_left]\n",
    "                ))\n",
    "            idx_right = idx + i + 1\n",
    "            if idx_right < len(self.sorted_x):\n",
    "                candidates.append((\n",
    "                    abs(self.sorted_x[idx_right] - x), self.sorted_x[idx_right], self.sorted_y[idx_right]\n",
    "                ))\n",
    "        closests = sorted(candidates)[:n]\n",
    "        return sorted([(t[1], t[2]) for t in closests])"
   ]
  },
  {
   "cell_type": "code",
   "execution_count": 92,
   "metadata": {},
   "outputs": [],
   "source": [
    "knr = KNearestReg1D()"
   ]
  },
  {
   "cell_type": "code",
   "execution_count": 93,
   "metadata": {},
   "outputs": [],
   "source": [
    "knr.fit(x, y)"
   ]
  },
  {
   "cell_type": "code",
   "execution_count": 94,
   "metadata": {},
   "outputs": [
    {
     "data": {
      "text/plain": [
       "array([ 0.  , 15.56,  4.44, 15.56, 15.56, 13.33,  8.89, 11.11,  2.22,\n",
       "       20.  ])"
      ]
     },
     "execution_count": 94,
     "metadata": {},
     "output_type": "execute_result"
    }
   ],
   "source": [
    "knr.predict([i * 5000 for i in range(10)])"
   ]
  },
  {
   "cell_type": "code",
   "execution_count": 83,
   "metadata": {},
   "outputs": [
    {
     "name": "stdout",
     "output_type": "stream",
     "text": [
      "[(9.876, 0.0), (9.881, 0.0), (9.881, 0.0), (9.883, 0.0), (9.884, 0.0), (9.884, 0.0), (9.885, 0.0), (9.886, 0.0), (9.89, 0.0), (9.891, 0.0), (9.893, 0.0), (9.895, 0.0)]\n",
      "0.0003382500000000159\n",
      "0.0\n",
      "0.0\n"
     ]
    },
    {
     "data": {
      "text/plain": [
       "array([0.])"
      ]
     },
     "execution_count": 83,
     "metadata": {},
     "output_type": "execute_result"
    }
   ],
   "source": [
    "knr.predict([10])"
   ]
  },
  {
   "cell_type": "code",
   "execution_count": 84,
   "metadata": {},
   "outputs": [
    {
     "data": {
      "text/plain": [
       "0"
      ]
     },
     "execution_count": 84,
     "metadata": {},
     "output_type": "execute_result"
    }
   ],
   "source": [
    "import bisect\n",
    "bisect.bisect([1,2,3], 0)"
   ]
  },
  {
   "cell_type": "code",
   "execution_count": 14,
   "metadata": {},
   "outputs": [
    {
     "data": {
      "text/plain": [
       "1"
      ]
     },
     "execution_count": 14,
     "metadata": {},
     "output_type": "execute_result"
    }
   ],
   "source": [
    "abs(-1)"
   ]
  },
  {
   "cell_type": "code",
   "execution_count": 95,
   "metadata": {},
   "outputs": [],
   "source": [
    "df_test = pd.read_csv('kaggle/input/test_x.csv')\n",
    "x_test = df_test['Time (s)'].values"
   ]
  },
  {
   "cell_type": "code",
   "execution_count": 96,
   "metadata": {},
   "outputs": [],
   "source": [
    "y_pred = knr.predict(x_test)"
   ]
  },
  {
   "cell_type": "code",
   "execution_count": 111,
   "metadata": {},
   "outputs": [
    {
     "data": {
      "text/plain": [
       "[<matplotlib.lines.Line2D at 0x26658b28438>]"
      ]
     },
     "execution_count": 111,
     "metadata": {},
     "output_type": "execute_result"
    },
    {
     "data": {
      "image/png": "[encoded data removed]",
      "text/plain": [
       "<Figure size 1152x432 with 1 Axes>"
      ]
     },
     "metadata": {
      "needs_background": "light"
     },
     "output_type": "display_data"
    }
   ],
   "source": [
    "plt.figure(figsize=(16, 6))\n",
    "plt.plot(df['Time (s)'], df['CO (ppm)'], 'ro')\n",
    "plt.plot(x_test, y_pred, 'bo')\n",
    "#plt.xlim(40000, 50000)\n",
    "#plt.ylim(19.9999, 20.0001)\n"
   ]
  },
  {
   "cell_type": "code",
   "execution_count": 98,
   "metadata": {},
   "outputs": [],
   "source": [
    "y_pred_df = pd.DataFrame({\n",
    "    'id': [i for i in range(len(y_pred))],\n",
    "    'CO (ppm)': y_pred\n",
    "})"
   ]
  },
  {
   "cell_type": "code",
   "execution_count": 112,
   "metadata": {},
   "outputs": [],
   "source": [
    "# Leader board 제출 결과 - Public Score: 0.00607\n",
    "y_pred_df.to_csv('kaggle/output/baseline_knn.csv', index=False)"
   ]
  },
  {
   "cell_type": "code",
   "execution_count": 114,
   "metadata": {},
   "outputs": [
    {
     "name": "stdout",
     "output_type": "stream",
     "text": [
      "1 : 0.0057331208752497255\n",
      "2 : 0.005673206247275441\n",
      "3 : 0.04665769356895598\n",
      "4 : 0.005976852353767708\n",
      "5 : 0.005937640091197276\n",
      "6 : 0.005875439345567144\n",
      "7 : 0.005832433812434164\n",
      "8 : 0.0061324620705210655\n",
      "9 : 0.006086746352743883\n",
      "10 : 0.00584091113639838\n",
      "11 : 0.015368946075726305\n",
      "12 : 0.0056480260767462764\n"
     ]
    }
   ],
   "source": [
    "for i in range(1, 13):\n",
    "    df = pd.read_csv('kaggle/input/train{}.csv'.format(i))\n",
    "    x = df['Time (s)'].values\n",
    "    y_pred = knr.predict(x)\n",
    "    y = df['CO (ppm)']\n",
    "    mae = np.mean(y - y_pred)\n",
    "    print(i, ':', mae)\n",
    "    \n",
    "# 결과\n",
    "# 1 : 0.0057331208752497255\n",
    "# 2 : 0.005673206247275441\n",
    "# 3 : 0.04665769356895598\n",
    "# 4 : 0.005976852353767708\n",
    "# 5 : 0.005937640091197276\n",
    "# 6 : 0.005875439345567144\n",
    "# 7 : 0.005832433812434164\n",
    "# 8 : 0.0061324620705210655\n",
    "# 9 : 0.006086746352743883\n",
    "# 10 : 0.00584091113639838\n",
    "# 11 : 0.015368946075726305\n",
    "# 12 : 0.0056480260767462764      "
   ]
  },
  {
   "cell_type": "code",
   "execution_count": null,
   "metadata": {},
   "outputs": [],
   "source": []
  }
 ],
 "metadata": {
  "kernelspec": {
   "display_name": "Python 3",
   "language": "python",
   "name": "python3"
  },
  "language_info": {
   "codemirror_mode": {
    "name": "ipython",
    "version": 3
   },
   "file_extension": ".py",
   "mimetype": "text/x-python",
   "name": "python",
   "nbconvert_exporter": "python",
   "pygments_lexer": "ipython3",
   "version": "3.6.12"
  }
 },
 "nbformat": 4,
 "nbformat_minor": 4
}
